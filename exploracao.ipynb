{
 "cells": [
  {
   "cell_type": "markdown",
   "metadata": {},
   "source": [
    "Código para a competição de preço do imóvel do kaggle"
   ]
  },
  {
   "cell_type": "code",
   "execution_count": 1,
   "metadata": {},
   "outputs": [],
   "source": [
    "import pandas as pd"
   ]
  },
  {
   "cell_type": "code",
   "execution_count": 5,
   "metadata": {},
   "outputs": [],
   "source": [
    "df = pd.read_csv('test.csv')"
   ]
  },
  {
   "cell_type": "code",
   "execution_count": 70,
   "metadata": {},
   "outputs": [],
   "source": [
    "def retorna_perc_nulos(dataframe, limite_inferior=10, remove_colunas=False) -> pd.DataFrame:\n",
    "    dict_nulos = {}\n",
    "    colunas_removidas = []\n",
    "\n",
    "    for col in dataframe.columns:\n",
    "        total = dataframe[col].count() + dataframe[col].isna().sum()\n",
    "        perc_nulls = (dataframe[col].isna().sum()/total)*100\n",
    "\n",
    "        if perc_nulls > limite_inferior:\n",
    "            dict_nulos[col] = round(perc_nulls,2)\n",
    "\n",
    "            if remove_colunas == True:\n",
    "                dataframe = dataframe.drop(col, axis=1)\n",
    "                colunas_removidas.append(col)\n",
    "\n",
    "    dict_nulos = dict(sorted(dict_nulos.items(), key=lambda item: item[1]))\n",
    "    dict_nulos = {chave: f'{valor}%' for chave, valor in dict_nulos.items()}\n",
    "    df_nulos = pd.DataFrame(list(dict_nulos.items()), columns=['Coluna', 'Porcentagem de Nulos'])\n",
    "\n",
    "    print(f'consideradas todas as colunas com mais de {limite_inferior}% de nulos')\n",
    "    display(df_nulos)\n",
    "\n",
    "    if remove_colunas == True:\n",
    "        print('')\n",
    "        print(f\"colunas removidas: {colunas_removidas}\")\n",
    "        return dataframe"
   ]
  },
  {
   "cell_type": "code",
   "execution_count": 75,
   "metadata": {},
   "outputs": [
    {
     "name": "stdout",
     "output_type": "stream",
     "text": [
      "consideradas todas as colunas com mais de 14% de nulos\n"
     ]
    },
    {
     "data": {
      "text/html": [
       "<div>\n",
       "<style scoped>\n",
       "    .dataframe tbody tr th:only-of-type {\n",
       "        vertical-align: middle;\n",
       "    }\n",
       "\n",
       "    .dataframe tbody tr th {\n",
       "        vertical-align: top;\n",
       "    }\n",
       "\n",
       "    .dataframe thead th {\n",
       "        text-align: right;\n",
       "    }\n",
       "</style>\n",
       "<table border=\"1\" class=\"dataframe\">\n",
       "  <thead>\n",
       "    <tr style=\"text-align: right;\">\n",
       "      <th></th>\n",
       "      <th>Coluna</th>\n",
       "      <th>Porcentagem de Nulos</th>\n",
       "    </tr>\n",
       "  </thead>\n",
       "  <tbody>\n",
       "    <tr>\n",
       "      <th>0</th>\n",
       "      <td>LotFrontage</td>\n",
       "      <td>15.56%</td>\n",
       "    </tr>\n",
       "    <tr>\n",
       "      <th>1</th>\n",
       "      <td>FireplaceQu</td>\n",
       "      <td>50.03%</td>\n",
       "    </tr>\n",
       "    <tr>\n",
       "      <th>2</th>\n",
       "      <td>MasVnrType</td>\n",
       "      <td>61.27%</td>\n",
       "    </tr>\n",
       "    <tr>\n",
       "      <th>3</th>\n",
       "      <td>Fence</td>\n",
       "      <td>80.12%</td>\n",
       "    </tr>\n",
       "    <tr>\n",
       "      <th>4</th>\n",
       "      <td>Alley</td>\n",
       "      <td>92.67%</td>\n",
       "    </tr>\n",
       "    <tr>\n",
       "      <th>5</th>\n",
       "      <td>MiscFeature</td>\n",
       "      <td>96.5%</td>\n",
       "    </tr>\n",
       "    <tr>\n",
       "      <th>6</th>\n",
       "      <td>PoolQC</td>\n",
       "      <td>99.79%</td>\n",
       "    </tr>\n",
       "  </tbody>\n",
       "</table>\n",
       "</div>"
      ],
      "text/plain": [
       "        Coluna Porcentagem de Nulos\n",
       "0  LotFrontage               15.56%\n",
       "1  FireplaceQu               50.03%\n",
       "2   MasVnrType               61.27%\n",
       "3        Fence               80.12%\n",
       "4        Alley               92.67%\n",
       "5  MiscFeature                96.5%\n",
       "6       PoolQC               99.79%"
      ]
     },
     "metadata": {},
     "output_type": "display_data"
    },
    {
     "name": "stdout",
     "output_type": "stream",
     "text": [
      "\n",
      "colunas removidas: ['LotFrontage', 'Alley', 'MasVnrType', 'FireplaceQu', 'PoolQC', 'Fence', 'MiscFeature']\n"
     ]
    }
   ],
   "source": [
    "new_df = retorna_perc_nulos(df, limite_inferior=14, remove_colunas=True)"
   ]
  }
 ],
 "metadata": {
  "kernelspec": {
   "display_name": "Python 3",
   "language": "python",
   "name": "python3"
  },
  "language_info": {
   "codemirror_mode": {
    "name": "ipython",
    "version": 3
   },
   "file_extension": ".py",
   "mimetype": "text/x-python",
   "name": "python",
   "nbconvert_exporter": "python",
   "pygments_lexer": "ipython3",
   "version": "3.12.4"
  }
 },
 "nbformat": 4,
 "nbformat_minor": 2
}
